{
  "nbformat": 4,
  "nbformat_minor": 0,
  "metadata": {
    "colab": {
      "provenance": []
    },
    "kernelspec": {
      "name": "python3",
      "display_name": "Python 3"
    },
    "language_info": {
      "name": "python"
    }
  },
  "cells": [
    {
      "cell_type": "code",
      "execution_count": null,
      "metadata": {
        "id": "TYxcGo-cx2bQ"
      },
      "outputs": [],
      "source": []
    },
    {
      "cell_type": "markdown",
      "source": [
        "1.... What is Object-Oriented Programming (OOP)?\n",
        "OOP is a programming paradigm based on the concept of objects, which encapsulate data and behavior. It promotes code reusability, modularity, and abstraction through four main principles: encapsulation, inheritance, polymorphism, and abstraction.\n",
        "\n",
        "2.... What is a class in OOP?\n",
        "A class is a blueprint for creating objects. It defines the attributes and methods that the created objects (instances) will have.\n",
        "\n",
        "3.... What is an object in OOP?\n",
        "An object is an instance of a class. It contains actual values for the class's attributes and can invoke its methods.\n",
        "\n",
        "4...... What is the difference between abstraction and encapsulation?\n",
        "Abstraction hides complexity by exposing only the relevant parts of an object.\n",
        "\n",
        "Encapsulation hides internal state by bundling data and methods that operate on it, restricting access using access modifiers (like _ or __ in Python).\n",
        "\n",
        "5..... What are dunder methods in Python?\n",
        "Dunder methods (double underscore methods, like __init__, __str__, __len__) are special methods used to define behavior for built-in operations and functions.\n",
        "\n",
        "6..... Explain the concept of inheritance in OOP\n",
        "Inheritance allows a class (child) to inherit attributes and methods from another class (parent), promoting code reuse and hierarchy.\n",
        "\n",
        "7..... What is polymorphism in OOP?\n",
        "Polymorphism allows objects of different classes to be treated as objects of a common superclass. It lets the same method name behave differently based on the object.\n",
        "\n",
        "8..... How is encapsulation achieved in Python?\n",
        "Encapsulation in Python is achieved using:\n",
        "\n",
        "Private variables (prefix with __)\n",
        "\n",
        "Protected variables (prefix with _)\n",
        "\n",
        "Properties and getter/setter methods\n",
        "\n",
        "10...... What is a constructor in Python?\n",
        "A constructor is a special method __init__() automatically called when an object is created, used to initialize the object's attributes.\n",
        "\n",
        "11..... What are class and static methods in Python?\n",
        "@classmethod: Takes cls as the first argument; used to access/modify class state.\n",
        "\n",
        "@staticmethod: Does not take self or cls; used for utility functions.\n",
        "\n",
        "12...... What is method overloading in Python?\n",
        "Method overloading (same method name with different parameters) is not natively supported, but can be mimicked using default parameters or *args/**kwargs.\n",
        "\n",
        "13..... What is method overriding in OOP?\n",
        "Method overriding is when a subclass provides a specific implementation of a method already defined in its superclass.\n",
        "\n",
        "14..... What is a property decorator in Python?\n",
        "The @property decorator makes a method behave like an attribute, often used to implement getter/setter functionality cleanly.\n",
        "\n",
        "15..... Why is polymorphism important in OOP?\n",
        "Polymorphism enables flexible and extensible code, allowing different object types to be used interchangeably through a common interface.\n",
        "\n",
        "16...... What is an abstract class in Python?\n",
        "An abstract class (via the abc module) cannot be instantiated and requires subclasses to implement its abstract methods.\n",
        "\n",
        "17...... What are the advantages of OOP?\n",
        "Modularity\n",
        "\n",
        "Reusability\n",
        "\n",
        "Maintainability\n",
        "\n",
        "Scalability\n",
        "\n",
        "Data hiding\n",
        "\n",
        "18...... What is the difference between a class variable and an instance variable?\n",
        "Class variable: Shared across all instances.\n",
        "\n",
        "Instance variable: Unique to each instance.\n",
        "\n",
        "19..... What is multiple inheritance in Python?\n",
        "Multiple inheritance allows a class to inherit from more than one parent class. Python resolves method conflicts using the Method Resolution Order (MRO).\n",
        "\n",
        "20..... Explain the purpose of __str__ and __repr__ methods in Python\n",
        "__str__: Defines the human-readable string (print(obj)).\n",
        "\n",
        "__repr__: Defines the official string representation (used in debugging, repr(obj)).\n",
        "\n",
        "21...... What is the significance of the super() function in Python?\n",
        "super() allows a child class to call methods from its parent class, typically used to initialize parent constructors or override methods.\n",
        "\n",
        "22....... What is the significance of the __del__ method in Python?\n",
        "__del__ is a destructor method called when an object is about to be destroyed, used for cleanup (rarely used due to garbage collection).\n",
        "\n",
        "23..... What is the difference between @staticmethod and @classmethod in Python?\n",
        "@staticmethod: Doesn’t receive self or cls.\n",
        "\n",
        "@classmethod: Receives cls, can modify class state.\n",
        "\n",
        "24......How does polymorphism work in Python with inheritance?\n",
        "Python supports polymorphism by allowing overridden methods in subclasses to be invoked via a superclass reference.\n",
        "\n",
        "25..... What is method chaining in Python OOP?\n",
        "Method chaining is calling multiple methods on the same object in a single statement. Each method returns self to allow chaining.\n",
        "\n",
        "26..... What is the purpose of the __call__ method in Python?\n",
        "The __call__ method allows an object to be called like a function (obj()), making it a callable object.\n",
        "\n"
      ],
      "metadata": {
        "id": "gOSXWyopx7Zd"
      }
    },
    {
      "cell_type": "code",
      "source": [
        "#1\n",
        "class Animal:\n",
        "    def speak(self):\n",
        "        print(\"Some generic animal sound\")\n",
        "\n",
        "class Dog(Animal):\n",
        "    def speak(self):\n",
        "        print(\"Bark!\")"
      ],
      "metadata": {
        "id": "ijXvMLpTzMtX"
      },
      "execution_count": null,
      "outputs": []
    },
    {
      "cell_type": "code",
      "source": [
        "# 2. Abstract class Shape\n",
        "class Shape(ABC):\n",
        "    @abstractmethod\n",
        "    def area(self):\n",
        "        pass\n",
        "\n",
        "class Circle(Shape):\n",
        "    def __init__(self, radius):\n",
        "        self.radius = radius\n",
        "\n",
        "    def area(self):\n",
        "        return 3.1416 * self.radius ** 2\n",
        "\n",
        "class Rectangle(Shape):\n",
        "    def __init__(self, width, height):\n",
        "        self.width = width\n",
        "        self.height = height\n",
        "\n",
        "    def area(self):\n",
        "        return self.width * self.height\n"
      ],
      "metadata": {
        "id": "NNQC-d_P0Fpg"
      },
      "execution_count": null,
      "outputs": []
    },
    {
      "cell_type": "code",
      "source": [
        "# 3. Multi-level inheritance\n",
        "class Vehicle:\n",
        "    def __init__(self, type):\n",
        "        self.type = type\n",
        "\n",
        "class Car(Vehicle):\n",
        "    def __init__(self, type, brand):\n",
        "        super().__init__(type)\n",
        "        self.brand = brand\n",
        "\n",
        "class ElectricCar(Car):\n",
        "    def __init__(self, type, brand, battery):\n",
        "        super().__init__(type, brand)\n",
        "        self.battery = battery\n"
      ],
      "metadata": {
        "id": "GBgdX6CD0NC1"
      },
      "execution_count": null,
      "outputs": []
    },
    {
      "cell_type": "code",
      "source": [
        "# 4. Polymorphism with fly()\n",
        "class Bird:\n",
        "    def fly(self):\n",
        "        print(\"Some birds can fly\")\n",
        "\n",
        "class Sparrow(Bird):\n",
        "    def fly(self):\n",
        "        print(\"Sparrow flies high!\")\n",
        "\n",
        "class Penguin(Bird):\n",
        "    def fly(self):\n",
        "        print(\"Penguins cannot fly\")\n"
      ],
      "metadata": {
        "id": "cFDJk-v00Wz_"
      },
      "execution_count": null,
      "outputs": []
    },
    {
      "cell_type": "code",
      "source": [
        "# 5. Encapsulation example\n",
        "class BankAccount:\n",
        "    def __init__(self):\n",
        "        self.__balance = 0\n",
        "\n",
        "    def deposit(self, amount):\n",
        "        if amount > 0:\n",
        "            self.__balance += amount\n",
        "\n",
        "    def withdraw(self, amount):\n",
        "        if 0 < amount <= self.__balance:\n",
        "            self.__balance -= amount\n",
        "\n",
        "    def get_balance(self):\n",
        "        return self.__balance"
      ],
      "metadata": {
        "id": "WqZ1InFK0bvi"
      },
      "execution_count": null,
      "outputs": []
    },
    {
      "cell_type": "code",
      "source": [
        "# 6. Runtime polymorphism\n",
        "class Instrument:\n",
        "    def play(self):\n",
        "        print(\"Instrument is playing\")\n",
        "\n",
        "class Guitar(Instrument):\n",
        "    def play(self):\n",
        "        print(\"Strumming the guitar\")\n",
        "\n",
        "class Piano(Instrument):\n",
        "    def play(self):\n",
        "        print(\"Playing the piano\")"
      ],
      "metadata": {
        "id": "C2oREbND0g5t"
      },
      "execution_count": null,
      "outputs": []
    },
    {
      "cell_type": "code",
      "source": [
        "# 7. Class and static methods\n",
        "class MathOperations:\n",
        "    @classmethod\n",
        "    def add_numbers(cls, a, b):\n",
        "        return a + b\n",
        "\n",
        "    @staticmethod\n",
        "    def subtract_numbers(a, b):\n",
        "        return a - b"
      ],
      "metadata": {
        "id": "OJkqkdIu0lXn"
      },
      "execution_count": null,
      "outputs": []
    },
    {
      "cell_type": "code",
      "source": [
        "# 8. Counting instances with a class method\n",
        "class Person:\n",
        "    count = 0\n",
        "\n",
        "    def __init__(self, name):\n",
        "        self.name = name\n",
        "        Person.count += 1\n",
        "\n",
        "    @classmethod\n",
        "    def get_count(cls):\n",
        "        return cls.count"
      ],
      "metadata": {
        "id": "qftTykIp0qFe"
      },
      "execution_count": null,
      "outputs": []
    },
    {
      "cell_type": "code",
      "source": [
        "# 9. Override __str__ for Fraction\n",
        "class Fraction:\n",
        "    def __init__(self, numerator, denominator):\n",
        "        self.numerator = numerator\n",
        "        self.denominator = denominator\n",
        "\n",
        "    def __str__(self):\n",
        "        return f\"{self.numerator}/{self.denominator}\""
      ],
      "metadata": {
        "id": "S_FZDxBq0zIA"
      },
      "execution_count": null,
      "outputs": []
    },
    {
      "cell_type": "code",
      "source": [
        "# 10. Operator overloading in Vector\n",
        "class Vector:\n",
        "    def __init__(self, x, y):\n",
        "        self.x = x\n",
        "        self.y = y\n",
        "\n",
        "    def __add__(self, other):\n",
        "        return Vector(self.x + other.x, self.y + other.y)\n",
        "\n",
        "    def __str__(self):\n",
        "        return f\"Vector({self.x}, {self.y})\""
      ],
      "metadata": {
        "id": "xQ6KVwKw06F8"
      },
      "execution_count": null,
      "outputs": []
    },
    {
      "cell_type": "code",
      "source": [
        "# 11. Greet method in Person\n",
        "class PersonWithGreet:\n",
        "    def __init__(self, name, age):\n",
        "        self.name = name\n",
        "        self.age = age\n",
        "\n",
        "    def greet(self):\n",
        "        print(f\"Hello, my name is {self.name} and I am {self.age} years old.\")\n"
      ],
      "metadata": {
        "id": "nMpNyopr0-P5"
      },
      "execution_count": null,
      "outputs": []
    },
    {
      "cell_type": "code",
      "source": [
        "# 12. Student average\n",
        "class Student:\n",
        "    def __init__(self, name, grades):\n",
        "        self.name = name\n",
        "        self.grades = grades\n",
        "\n",
        "    def average_grade(self):\n",
        "        return sum(self.grades) / len(self.grades)\n"
      ],
      "metadata": {
        "id": "9Qh2vq4-1DND"
      },
      "execution_count": null,
      "outputs": []
    },
    {
      "cell_type": "code",
      "source": [
        "# 13. Rectangle with set and area\n",
        "class RectangleShape:\n",
        "    def set_dimensions(self, width, height):\n",
        "        self.width = width\n",
        "        self.height = height\n",
        "\n",
        "    def area(self):\n",
        "        return self.width * self.height"
      ],
      "metadata": {
        "id": "EmjNdfWL1H33"
      },
      "execution_count": null,
      "outputs": []
    },
    {
      "cell_type": "code",
      "source": [
        "# 14. Employee and Manager with salary calculation\n",
        "class Employee:\n",
        "    def __init__(self, hours_worked, hourly_rate):\n",
        "        self.hours_worked = hours_worked\n",
        "        self.hourly_rate = hourly_rate\n",
        "\n",
        "    def calculate_salary(self):\n",
        "        return self.hours_worked * self.hourly_rate\n",
        "\n",
        "class Manager(Employee):\n",
        "    def __init__(self, hours_worked, hourly_rate, bonus):\n",
        "        super().__init__(hours_worked, hourly_rate)\n",
        "        self.bonus = bonus\n",
        "\n",
        "    def calculate_salary(self):\n",
        "        return super().calculate_salary() + self.bonus\n"
      ],
      "metadata": {
        "id": "z5_q58j01lyx"
      },
      "execution_count": null,
      "outputs": []
    },
    {
      "cell_type": "code",
      "source": [
        "# 15. Product with total price\n",
        "class Product:\n",
        "    def __init__(self, name, price, quantity):\n",
        "        self.name = name\n",
        "        self.price = price\n",
        "        self.quantity = quantity\n",
        "\n",
        "    def total_price(self):\n",
        "        return self.price * self"
      ],
      "metadata": {
        "id": "eIlbjs5P1mut"
      },
      "execution_count": null,
      "outputs": []
    },
    {
      "cell_type": "code",
      "source": [
        "from abc import ABC, abstractmethod\n",
        "\n",
        "# 16. Abstract class Animal with sound() method\n",
        "class Animal(ABC):\n",
        "    @abstractmethod\n",
        "    def sound(self):\n",
        "        pass\n",
        "\n",
        "class Cow(Animal):\n",
        "    def sound(self):\n",
        "        return \"Moo\"\n",
        "\n",
        "class Sheep(Animal):\n",
        "    def sound(self):\n",
        "        return \"Baa\"\n",
        "\n",
        "# 17. Book class with attributes and get_book_info() method\n",
        "class Book:\n",
        "    def __init__(self, title, author, year_published):\n",
        "        self.title = title\n",
        "        self.author = author\n",
        "        self.year_published = year_published\n",
        "\n",
        "    def get_book_info(self):\n",
        "        return f\"'{self.title}' by {self.author}, published in {self.year_published}\"\n",
        "\n",
        "# 18. House and derived class Mansion with number_of_rooms\n",
        "class House:\n",
        "    def __init__(self, address, price):\n",
        "        self.address = address\n",
        "        self.price = price\n",
        "\n",
        "class Mansion(House):\n",
        "    def __init__(self, address, price\n"
      ],
      "metadata": {
        "id": "PzRoXtoo1ufb"
      },
      "execution_count": null,
      "outputs": []
    }
  ]
}